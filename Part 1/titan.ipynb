{
 "cells": [
  {
   "cell_type": "code",
   "execution_count": null,
   "metadata": {},
   "outputs": [],
   "source": [
    "%matplotlib inline\n",
    "%load_ext autoreload\n",
    "%autoreload 2"
   ]
  },
  {
   "cell_type": "code",
   "execution_count": null,
   "metadata": {},
   "outputs": [],
   "source": [
    "from PIL import Image\n",
    "import numpy as np\n",
    "import matplotlib.pyplot as plt\n",
    "\n",
    "titan = Image.open(\"titan.jpg\")\n",
    "titan_array = np.array(titan).astype(np.double)\n",
    "tmax = titan_array.max()\n",
    "tmin = titan_array.min()\n",
    "titan_array = titan_array / tmax\n",
    "titan_array.shape\n",
    "\n",
    "plt.imshow(titan_array, cmap=\"gray\")\n",
    "plt.rcParams['figure.figsize'] = [20, 15]\n",
    "plt.rcParams['figure.dpi'] = 100\n",
    "plt.show()\n",
    "\n",
    "tindex = np.arange(0, titan_array.shape[0]*titan_array.shape[1])\n",
    "tp = 0.5\n",
    "tindex_o = np.random.choice(tindex, size=round(tindex.shape[0]*tp), replace=False)\n",
    "# Could do smarter sampling above, i.e. instead shuffle tindex as: np.random.shuffle(tindex)\n",
    "# and then take the first round(tindex.shape[0]*tp) elements\n",
    "# but setdiff1d seems like a good function to know about.\n",
    "tindex_m = np.setdiff1d(tindex, tindex_o)"
   ]
  }
 ],
 "metadata": {
  "language_info": {
   "name": "python"
  },
  "orig_nbformat": 4
 },
 "nbformat": 4,
 "nbformat_minor": 2
}
